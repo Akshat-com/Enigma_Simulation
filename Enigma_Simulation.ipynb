{
 "cells": [
  {
   "cell_type": "code",
   "execution_count": 17,
   "id": "1f280758-2ddd-4910-a3ba-380ca67dc272",
   "metadata": {
    "scrolled": true
   },
   "outputs": [
    {
     "name": "stdout",
     "output_type": "stream",
     "text": [
      "Requirement already satisfied: py-enigma in /opt/anaconda3/lib/python3.12/site-packages (0.1)\n"
     ]
    }
   ],
   "source": [
    "!pip install py-enigma"
   ]
  },
  {
   "cell_type": "code",
   "execution_count": 18,
   "id": "d0d2476a-fb75-4d5d-9086-6fc13e85df67",
   "metadata": {},
   "outputs": [],
   "source": [
    "from enigma.machine import EnigmaMachine\n",
    "import re"
   ]
  },
  {
   "cell_type": "code",
   "execution_count": 19,
   "id": "02cc877b-2dc2-4d68-b299-4fd3e1d62304",
   "metadata": {},
   "outputs": [],
   "source": [
    "# Set up the Enigma machine\n",
    "machine = EnigmaMachine.from_key_sheet(\n",
    "    rotors='I II III',           # Rotor order\n",
    "    reflector='B',               # Standard WWII reflector\n",
    "    ring_settings='A B D',       # Ring settings\n",
    "    plugboard_settings=''        # No plugboard used\n",
    ")\n"
   ]
  },
  {
   "cell_type": "code",
   "execution_count": 20,
   "id": "5bdb46a9-beb5-4e33-b112-5a81f1f268a4",
   "metadata": {},
   "outputs": [],
   "source": [
    "\n",
    "# Set initial rotor positions\n",
    "machine.set_display('XYW')\n",
    "\n",
    "# Your plaintext\n",
    "plaintext = \"India walks out of Indus Water Treaty, endangering Pak's share of Indus River and it's tributries.\"\n",
    "\n",
    "# Clean the text (remove punctuation and convert to uppercase)\n",
    "clean_plaintext = re.sub(r'[^A-Z]', '', plaintext.upper())"
   ]
  },
  {
   "cell_type": "code",
   "execution_count": 21,
   "id": "2fdc3a2f-81a5-4a7a-a5d9-05625d422004",
   "metadata": {},
   "outputs": [],
   "source": [
    "# Encipher the cleaned plaintext\n",
    "ciphertext = machine.process_text(clean_plaintext)"
   ]
  },
  {
   "cell_type": "code",
   "execution_count": 22,
   "id": "495d5e32-b64c-4a41-b07b-628bec63bc34",
   "metadata": {},
   "outputs": [
    {
     "name": "stdout",
     "output_type": "stream",
     "text": [
      "Ciphertext: UJEMDTIHXDIKGFLPRMIOZWDSMCUFSULHZOSQQSSOWTVZVUMGNXGXMJVJZNHEFFKUTPUFLKNCMHUIWRG\n"
     ]
    }
   ],
   "source": [
    "# Output the result\n",
    "print(\"Ciphertext:\", ciphertext)"
   ]
  },
  {
   "cell_type": "code",
   "execution_count": 23,
   "id": "f708edba-4d8a-43e2-b27f-4def2086d633",
   "metadata": {},
   "outputs": [
    {
     "name": "stdout",
     "output_type": "stream",
     "text": [
      "Plaintext: INDIAWALKSOUTOFINDUSWATERTREATYENDANGERINGPAKSSHAREOFINDUSRIVERANDITSTRIBUTRIES\n"
     ]
    }
   ],
   "source": [
    "print(\"Plaintext:\", clean_plaintext)"
   ]
  },
  {
   "cell_type": "code",
   "execution_count": 24,
   "id": "7ad45381-38ff-45ba-bd73-ed271759189b",
   "metadata": {},
   "outputs": [
    {
     "name": "stdout",
     "output_type": "stream",
     "text": [
      "True\n"
     ]
    }
   ],
   "source": [
    "if len(str(clean_plaintext)) == len(str(ciphertext)) :\n",
    "    print(\"True\")"
   ]
  },
  {
   "cell_type": "code",
   "execution_count": 25,
   "id": "b9bcfb58-63ba-47df-b8fa-4823693374ef",
   "metadata": {},
   "outputs": [],
   "source": [
    "# decipher the cleaned plaintext\n",
    "\n",
    "# Set initial rotor positions for deciphering\n",
    "machine.set_display('XYW')\n",
    "\n",
    "deciphertext = machine.process_text(ciphertext)"
   ]
  },
  {
   "cell_type": "code",
   "execution_count": 26,
   "id": "f2d5e90b-667b-4ece-95d7-41248c861393",
   "metadata": {},
   "outputs": [
    {
     "name": "stdout",
     "output_type": "stream",
     "text": [
      "Deciphertext: INDIAWALKSOUTOFINDUSWATERTREATYENDANGERINGPAKSSHAREOFINDUSRIVERANDITSTRIBUTRIES\n"
     ]
    }
   ],
   "source": [
    "print(\"Deciphertext:\", deciphertext)"
   ]
  },
  {
   "cell_type": "code",
   "execution_count": 27,
   "id": "a075c271-4cdc-4510-85ce-49aeee8678cb",
   "metadata": {},
   "outputs": [
    {
     "name": "stdout",
     "output_type": "stream",
     "text": [
      "True\n"
     ]
    }
   ],
   "source": [
    "if deciphertext == clean_plaintext :\n",
    "    print(\"True\")"
   ]
  },
  {
   "cell_type": "code",
   "execution_count": null,
   "id": "03674f13-882f-4102-a8ed-61bdd8be22ae",
   "metadata": {},
   "outputs": [],
   "source": []
  }
 ],
 "metadata": {
  "kernelspec": {
   "display_name": "Python 3 (ipykernel)",
   "language": "python",
   "name": "python3"
  },
  "language_info": {
   "codemirror_mode": {
    "name": "ipython",
    "version": 3
   },
   "file_extension": ".py",
   "mimetype": "text/x-python",
   "name": "python",
   "nbconvert_exporter": "python",
   "pygments_lexer": "ipython3",
   "version": "3.12.7"
  }
 },
 "nbformat": 4,
 "nbformat_minor": 5
}
